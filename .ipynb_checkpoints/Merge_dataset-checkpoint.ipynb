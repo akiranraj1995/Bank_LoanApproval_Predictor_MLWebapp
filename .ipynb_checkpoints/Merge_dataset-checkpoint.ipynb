{
 "cells": [
  {
   "cell_type": "markdown",
   "id": "31a78acc",
   "metadata": {},
   "source": [
    "# To Merge Datasets into One CSV File"
   ]
  },
  {
   "cell_type": "markdown",
   "id": "9703af18",
   "metadata": {},
   "source": [
    "# glob function and merge multiple csv files into one"
   ]
  },
  {
   "cell_type": "code",
   "execution_count": 14,
   "id": "99c02357",
   "metadata": {},
   "outputs": [],
   "source": [
    "import pandas as pd\n",
    "#import glob as glb\n",
    "from glob import glob"
   ]
  },
  {
   "cell_type": "code",
   "execution_count": 15,
   "id": "0d012f1d",
   "metadata": {},
   "outputs": [
    {
     "data": {
      "text/plain": [
       "['/home/expert/Jupyter Notebook/Loan_approval_Predictor/Datafile/Data1.csv',\n",
       " '/home/expert/Jupyter Notebook/Loan_approval_Predictor/Datafile/Data2.csv',\n",
       " '/home/expert/Jupyter Notebook/Loan_approval_Predictor/Datafile/Data3.csv']"
      ]
     },
     "execution_count": 15,
     "metadata": {},
     "output_type": "execute_result"
    }
   ],
   "source": [
    "#SourceFileName= datafile in local machine and data*.csv\n",
    "data_files = sorted (glob(\"/home/expert/Jupyter Notebook/Loan_approval_Predictor/Datafile/Data*.csv\"))\n",
    "data_files"
   ]
  },
  {
   "cell_type": "markdown",
   "id": "366704b3",
   "metadata": {},
   "source": [
    "# To read all the files iteratively and we will create anew column to identify the record's original filename using assign()"
   ]
  },
  {
   "cell_type": "code",
   "execution_count": 20,
   "id": "6ca0b272",
   "metadata": {},
   "outputs": [],
   "source": [
    "\n",
    "mergeddata =pd.concat(pd.read_csv(datafile).assign(sourcefilename=datafile) \n",
    "                      for datafile in data_files)"
   ]
  },
  {
   "cell_type": "code",
   "execution_count": 23,
   "id": "c95028e0",
   "metadata": {},
   "outputs": [
    {
     "data": {
      "text/html": [
       "<div>\n",
       "<style scoped>\n",
       "    .dataframe tbody tr th:only-of-type {\n",
       "        vertical-align: middle;\n",
       "    }\n",
       "\n",
       "    .dataframe tbody tr th {\n",
       "        vertical-align: top;\n",
       "    }\n",
       "\n",
       "    .dataframe thead th {\n",
       "        text-align: right;\n",
       "    }\n",
       "</style>\n",
       "<table border=\"1\" class=\"dataframe\">\n",
       "  <thead>\n",
       "    <tr style=\"text-align: right;\">\n",
       "      <th></th>\n",
       "      <th>Loan_ID</th>\n",
       "      <th>Gender</th>\n",
       "      <th>Married</th>\n",
       "      <th>Dependents</th>\n",
       "      <th>Education</th>\n",
       "      <th>Self_Employed</th>\n",
       "      <th>ApplicantIncome</th>\n",
       "      <th>CoapplicantIncome</th>\n",
       "      <th>LoanAmount</th>\n",
       "      <th>Loan_Amount_Term</th>\n",
       "      <th>Credit_History</th>\n",
       "      <th>Property_Area</th>\n",
       "      <th>sourcefilename</th>\n",
       "      <th>Loan_Status</th>\n",
       "    </tr>\n",
       "  </thead>\n",
       "  <tbody>\n",
       "    <tr>\n",
       "      <th>0</th>\n",
       "      <td>LP001015</td>\n",
       "      <td>Male</td>\n",
       "      <td>Yes</td>\n",
       "      <td>0</td>\n",
       "      <td>Graduate</td>\n",
       "      <td>No</td>\n",
       "      <td>5720</td>\n",
       "      <td>0.0</td>\n",
       "      <td>110.0</td>\n",
       "      <td>360.0</td>\n",
       "      <td>1.0</td>\n",
       "      <td>Urban</td>\n",
       "      <td>/home/expert/Jupyter Notebook/Loan_approval_Pr...</td>\n",
       "      <td>NaN</td>\n",
       "    </tr>\n",
       "    <tr>\n",
       "      <th>1</th>\n",
       "      <td>LP001022</td>\n",
       "      <td>Male</td>\n",
       "      <td>Yes</td>\n",
       "      <td>1</td>\n",
       "      <td>Graduate</td>\n",
       "      <td>No</td>\n",
       "      <td>3076</td>\n",
       "      <td>1500.0</td>\n",
       "      <td>126.0</td>\n",
       "      <td>360.0</td>\n",
       "      <td>1.0</td>\n",
       "      <td>Urban</td>\n",
       "      <td>/home/expert/Jupyter Notebook/Loan_approval_Pr...</td>\n",
       "      <td>NaN</td>\n",
       "    </tr>\n",
       "    <tr>\n",
       "      <th>2</th>\n",
       "      <td>LP001031</td>\n",
       "      <td>Male</td>\n",
       "      <td>Yes</td>\n",
       "      <td>2</td>\n",
       "      <td>Graduate</td>\n",
       "      <td>No</td>\n",
       "      <td>5000</td>\n",
       "      <td>1800.0</td>\n",
       "      <td>208.0</td>\n",
       "      <td>360.0</td>\n",
       "      <td>1.0</td>\n",
       "      <td>Urban</td>\n",
       "      <td>/home/expert/Jupyter Notebook/Loan_approval_Pr...</td>\n",
       "      <td>NaN</td>\n",
       "    </tr>\n",
       "    <tr>\n",
       "      <th>3</th>\n",
       "      <td>LP001035</td>\n",
       "      <td>Male</td>\n",
       "      <td>Yes</td>\n",
       "      <td>2</td>\n",
       "      <td>Graduate</td>\n",
       "      <td>No</td>\n",
       "      <td>2340</td>\n",
       "      <td>2546.0</td>\n",
       "      <td>100.0</td>\n",
       "      <td>360.0</td>\n",
       "      <td>NaN</td>\n",
       "      <td>Urban</td>\n",
       "      <td>/home/expert/Jupyter Notebook/Loan_approval_Pr...</td>\n",
       "      <td>NaN</td>\n",
       "    </tr>\n",
       "    <tr>\n",
       "      <th>4</th>\n",
       "      <td>LP001051</td>\n",
       "      <td>Male</td>\n",
       "      <td>No</td>\n",
       "      <td>0</td>\n",
       "      <td>Not Graduate</td>\n",
       "      <td>No</td>\n",
       "      <td>3276</td>\n",
       "      <td>0.0</td>\n",
       "      <td>78.0</td>\n",
       "      <td>360.0</td>\n",
       "      <td>1.0</td>\n",
       "      <td>Urban</td>\n",
       "      <td>/home/expert/Jupyter Notebook/Loan_approval_Pr...</td>\n",
       "      <td>NaN</td>\n",
       "    </tr>\n",
       "  </tbody>\n",
       "</table>\n",
       "</div>"
      ],
      "text/plain": [
       "    Loan_ID Gender Married Dependents     Education Self_Employed  \\\n",
       "0  LP001015   Male     Yes          0      Graduate            No   \n",
       "1  LP001022   Male     Yes          1      Graduate            No   \n",
       "2  LP001031   Male     Yes          2      Graduate            No   \n",
       "3  LP001035   Male     Yes          2      Graduate            No   \n",
       "4  LP001051   Male      No          0  Not Graduate            No   \n",
       "\n",
       "   ApplicantIncome  CoapplicantIncome  LoanAmount  Loan_Amount_Term  \\\n",
       "0             5720                0.0       110.0             360.0   \n",
       "1             3076             1500.0       126.0             360.0   \n",
       "2             5000             1800.0       208.0             360.0   \n",
       "3             2340             2546.0       100.0             360.0   \n",
       "4             3276                0.0        78.0             360.0   \n",
       "\n",
       "   Credit_History Property_Area  \\\n",
       "0             1.0         Urban   \n",
       "1             1.0         Urban   \n",
       "2             1.0         Urban   \n",
       "3             NaN         Urban   \n",
       "4             1.0         Urban   \n",
       "\n",
       "                                      sourcefilename Loan_Status  \n",
       "0  /home/expert/Jupyter Notebook/Loan_approval_Pr...         NaN  \n",
       "1  /home/expert/Jupyter Notebook/Loan_approval_Pr...         NaN  \n",
       "2  /home/expert/Jupyter Notebook/Loan_approval_Pr...         NaN  \n",
       "3  /home/expert/Jupyter Notebook/Loan_approval_Pr...         NaN  \n",
       "4  /home/expert/Jupyter Notebook/Loan_approval_Pr...         NaN  "
      ]
     },
     "execution_count": 23,
     "metadata": {},
     "output_type": "execute_result"
    }
   ],
   "source": [
    "mergeddata.head()"
   ]
  },
  {
   "cell_type": "code",
   "execution_count": 24,
   "id": "61ea2402",
   "metadata": {},
   "outputs": [
    {
     "data": {
      "text/plain": [
       "(1348, 14)"
      ]
     },
     "execution_count": 24,
     "metadata": {},
     "output_type": "execute_result"
    }
   ],
   "source": [
    "mergeddata.shape"
   ]
  },
  {
   "cell_type": "markdown",
   "id": "37ab05f8",
   "metadata": {},
   "source": [
    "# Save to merged file"
   ]
  },
  {
   "cell_type": "code",
   "execution_count": 26,
   "id": "3b537a1e",
   "metadata": {},
   "outputs": [],
   "source": [
    "mergeddata.to_csv(\"/home/expert/Jupyter Notebook/Loan_approval_Predictor/Loan_dataset.csv\")"
   ]
  },
  {
   "cell_type": "code",
   "execution_count": null,
   "id": "67cde56b",
   "metadata": {},
   "outputs": [],
   "source": []
  }
 ],
 "metadata": {
  "kernelspec": {
   "display_name": "Python 3 (ipykernel)",
   "language": "python",
   "name": "python3"
  },
  "language_info": {
   "codemirror_mode": {
    "name": "ipython",
    "version": 3
   },
   "file_extension": ".py",
   "mimetype": "text/x-python",
   "name": "python",
   "nbconvert_exporter": "python",
   "pygments_lexer": "ipython3",
   "version": "3.9.15"
  }
 },
 "nbformat": 4,
 "nbformat_minor": 5
}
